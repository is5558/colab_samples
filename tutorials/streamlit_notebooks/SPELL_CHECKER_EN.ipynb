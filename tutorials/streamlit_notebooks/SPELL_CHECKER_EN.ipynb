{
  "cells": [
    {
      "cell_type": "markdown",
      "metadata": {
        "id": "view-in-github",
        "colab_type": "text"
      },
      "source": [
        "<a href=\"https://colab.research.google.com/github/is5558/colab_samples/blob/main/tutorials/streamlit_notebooks/SPELL_CHECKER_EN.ipynb\" target=\"_parent\"><img src=\"https://colab.research.google.com/assets/colab-badge.svg\" alt=\"Open In Colab\"/></a>"
      ]
    },
    {
      "cell_type": "markdown",
      "metadata": {
        "id": "I4b_2KemgDWf"
      },
      "source": [
        "\n",
        "\n",
        "![JohnSnowLabs](https://nlp.johnsnowlabs.com/assets/images/logo.png)\n",
        "\n",
        "[![Open In Colab](https://colab.research.google.com/assets/colab-badge.svg)](https://githubtocolab.com/JohnSnowLabs/spark-nlp-workshop/blob/master/tutorials/streamlit_notebooks/SPELL_CHECKER_EN.ipynb)\n",
        "\n",
        "\n"
      ]
    },
    {
      "cell_type": "markdown",
      "metadata": {
        "id": "TnZG0I4ogNLI"
      },
      "source": [
        "# **Spell check your text documents**"
      ]
    },
    {
      "cell_type": "markdown",
      "metadata": {
        "id": "apjCmRyjgQll"
      },
      "source": [
        "## 1. Colab Setup"
      ]
    },
    {
      "cell_type": "markdown",
      "metadata": {
        "id": "2phEj9SygX4n"
      },
      "source": [
        "Install dependencies"
      ]
    },
    {
      "cell_type": "code",
      "execution_count": 1,
      "metadata": {
        "id": "uAiXj3DOfyZ-",
        "colab": {
          "base_uri": "https://localhost:8080/"
        },
        "outputId": "9c559351-59bb-4481-9bab-0fac02aba7f5"
      },
      "outputs": [
        {
          "output_type": "stream",
          "name": "stdout",
          "text": [
            "\u001b[?25l   \u001b[90m━━━━━━━━━━━━━━━━━━━━━━━━━━━━━━━━━━━━━━━━\u001b[0m \u001b[32m0.0/718.9 kB\u001b[0m \u001b[31m?\u001b[0m eta \u001b[36m-:--:--\u001b[0m\r\u001b[2K   \u001b[91m━━━━━━━━━━━━━━━━━━━━━━━━━━━━━━━━━━━━━━━\u001b[0m\u001b[91m╸\u001b[0m \u001b[32m716.8/718.9 kB\u001b[0m \u001b[31m30.8 MB/s\u001b[0m eta \u001b[36m0:00:01\u001b[0m\r\u001b[2K   \u001b[90m━━━━━━━━━━━━━━━━━━━━━━━━━━━━━━━━━━━━━━━━\u001b[0m \u001b[32m718.9/718.9 kB\u001b[0m \u001b[31m18.9 MB/s\u001b[0m eta \u001b[36m0:00:00\u001b[0m\n",
            "\u001b[?25h"
          ]
        }
      ],
      "source": [
        "# Install PySpark and Spark NLP\n",
        "! pip install -q pyspark spark-nlp"
      ]
    },
    {
      "cell_type": "code",
      "source": [
        "import sparknlp\n",
        "from sparknlp.pretrained import PretrainedPipeline\n",
        "\n",
        "def initialize_spark_nlp():\n",
        "    try:\n",
        "        spark = sparknlp.start()\n",
        "        print(\"Spark NLP version:\", sparknlp.version())\n",
        "        return spark\n",
        "    except Exception as e:\n",
        "        print(\"Error initializing Spark NLP session:\", str(e))\n",
        "        raise\n",
        "\n",
        "def load_pipeline(pipeline_name='check_spelling', lang='en'):\n",
        "\n",
        "    try:\n",
        "        return PretrainedPipeline(pipeline_name, lang=lang)\n",
        "    except Exception as e:\n",
        "        print(f\"Error loading pipeline '{pipeline_name}':\", str(e))\n",
        "        raise\n",
        "\n",
        "def get_corrected_text(annotations):\n",
        "    try:\n",
        "        corrected_tokens = [token.result for token in annotations['checked']]\n",
        "        return \" \".join(corrected_tokens).replace(\" ,\", \",\").replace(\" .\", \".\")\n",
        "    except KeyError:\n",
        "        print(\"Error: 'checked' key not found in annotations.\")\n",
        "        return \"\"\n",
        "\n",
        "def main():\n",
        "    text = (\n",
        "        \"Yesturday, I went to the libary to borow a book about anciant civilizations. \"\n",
        "        \"The wether was pleasent, so I decidid to walk insted of taking the buss. On the way, \"\n",
        "        \"I saw a restuarent that lookt intresting, and I plan to viset it soon.\"\n",
        "    )\n",
        "\n",
        "    try:\n",
        "        # Initialize Spark NLP and load the pipeline\n",
        "        spark = initialize_spark_nlp()\n",
        "        pipeline = load_pipeline()\n",
        "\n",
        "        # Annotate text\n",
        "        annotations = pipeline.fullAnnotate(text)[0]\n",
        "\n",
        "        # Get and print corrected text\n",
        "        corrected_text = get_corrected_text(annotations)\n",
        "        print(\"*\"*77)\n",
        "        print(\"Original Text:\\n\", text)\n",
        "        print(\"Corrected Text:\\n\", corrected_text)\n",
        "        print(\"*\"*77)\n",
        "\n",
        "    except Exception as e:\n",
        "        print(\"An unexpected error occurred:\", str(e))\n",
        "\n",
        "main()"
      ],
      "metadata": {
        "colab": {
          "base_uri": "https://localhost:8080/"
        },
        "id": "_DJnasw_YhUo",
        "outputId": "05933539-c87c-4f6b-db55-55285b21a074"
      },
      "execution_count": null,
      "outputs": [
        {
          "output_type": "stream",
          "name": "stdout",
          "text": [
            "Warning::Spark Session already created, some configs may not take.\n",
            "Spark NLP version: 6.0.4\n",
            "check_spelling download started this may take some time.\n",
            "Approx size to download 884.9 KB\n",
            "[OK!]\n",
            "*****************************************************************************\n",
            "Original Text:\n",
            " Yesturday, I went to the libary to borow a book about anciant civilizations. The wether was pleasent, so I decidid to walk insted of taking the buss. On the way, I saw a restuarent that lookt intresting, and I plan to viset it soon.\n",
            "Corrected Text:\n",
            " Yesterday, I went to the library to borrow a book about ancient civilizations. The whether was pleasant, so I decided to walk instead of taking the bus. On the way, I saw a restuarent that looks interesting, and I plan to visit it soon.\n",
            "*****************************************************************************\n"
          ]
        }
      ]
    },
    {
      "cell_type": "code",
      "source": [
        "! wget https://s3.amazonaws.com/auxdata.johnsnowlabs.com/public/jars/spark-nlp-assembly-5.1.3.jar -O spark-nlp-5.1.3.jar\n"
      ],
      "metadata": {
        "colab": {
          "base_uri": "https://localhost:8080/"
        },
        "id": "xPk_t4TfhCcs",
        "outputId": "b5af3c17-bff8-4f60-b052-fdb263e0b74d"
      },
      "execution_count": 2,
      "outputs": [
        {
          "output_type": "stream",
          "name": "stdout",
          "text": [
            "--2025-07-10 13:26:35--  https://s3.amazonaws.com/auxdata.johnsnowlabs.com/public/jars/spark-nlp-assembly-5.1.3.jar\n",
            "Resolving s3.amazonaws.com (s3.amazonaws.com)... 52.217.199.8, 54.231.160.248, 54.231.236.224, ...\n",
            "Connecting to s3.amazonaws.com (s3.amazonaws.com)|52.217.199.8|:443... connected.\n",
            "HTTP request sent, awaiting response... 200 OK\n",
            "Length: 708534094 (676M) [application/java-archive]\n",
            "Saving to: ‘spark-nlp-5.1.3.jar’\n",
            "\n",
            "spark-nlp-5.1.3.jar 100%[===================>] 675.71M  54.6MB/s    in 13s     \n",
            "\n",
            "2025-07-10 13:26:48 (51.5 MB/s) - ‘spark-nlp-5.1.3.jar’ saved [708534094/708534094]\n",
            "\n"
          ]
        }
      ]
    },
    {
      "cell_type": "code",
      "source": [
        "import sparknlp\n",
        "from pyspark.sql import SparkSession\n",
        "from sparknlp.base import DocumentAssembler\n",
        "from sparknlp.annotator import *\n",
        "from pyspark.ml import Pipeline\n",
        "\n",
        "def initialize_spark_nlp():\n",
        "    spark = SparkSession.builder \\\n",
        "        .appName(\"check_spelling\") \\\n",
        "        .config(\"spark.jars\", \"/content/spark-nlp-5.1.3.jar\") \\\n",
        "        .getOrCreate()\n",
        "    return spark\n",
        "\n",
        "def main():\n",
        "    spark = initialize_spark_nlp()\n",
        "    print(\"Spark NLP version:\", sparknlp.version())\n",
        "    print(\"*\" * 77)\n",
        "\n",
        "    data = spark.createDataFrame([[\"Yesturday, I went to the libary and saw elefants.\"]]).toDF(\"text\")\n",
        "\n",
        "    document = DocumentAssembler().setInputCol(\"text\").setOutputCol(\"document\")\n",
        "    tokenizer = Tokenizer().setInputCols([\"document\"]).setOutputCol(\"token\")\n",
        "    spell = NorvigSweetingModel.pretrained() \\\n",
        "        .setInputCols([\"token\"]) \\\n",
        "        .setOutputCol(\"spell\")\n",
        "\n",
        "    pipeline = Pipeline(stages=[document, tokenizer, spell])\n",
        "    model = pipeline.fit(data)\n",
        "    result = model.transform(data)\n",
        "\n",
        "    result.select(\"spell.result\").show(truncate=False)\n",
        "\n",
        "if __name__ == \"__main__\":\n",
        "    main()"
      ],
      "metadata": {
        "colab": {
          "base_uri": "https://localhost:8080/"
        },
        "id": "_5r5-n3LgywO",
        "outputId": "6335dc50-2551-450d-c551-f1cee28a758a"
      },
      "execution_count": 6,
      "outputs": [
        {
          "output_type": "stream",
          "name": "stdout",
          "text": [
            "Spark NLP version: 6.0.5\n",
            "*****************************************************************************\n",
            "spellcheck_norvig download started this may take some time.\n",
            "Approximate size to download 4.2 MB\n",
            "[OK!]\n",
            "+----------------------------------------------------------------+\n",
            "|result                                                          |\n",
            "+----------------------------------------------------------------+\n",
            "|[Yesterday, ,, I, went, to, the, library, and, saw, elefants, .]|\n",
            "+----------------------------------------------------------------+\n",
            "\n"
          ]
        }
      ]
    }
  ],
  "metadata": {
    "colab": {
      "provenance": [],
      "include_colab_link": true
    },
    "interpreter": {
      "hash": "45150093197569bb3a58481dcd32cd1adb45462fa3448719e8ac38ada6166aca"
    },
    "kernelspec": {
      "display_name": "Python 3.6.10 64-bit ('tensorflow2_p36': conda)",
      "name": "python3"
    },
    "language_info": {
      "codemirror_mode": {
        "name": "ipython",
        "version": 3
      },
      "file_extension": ".py",
      "mimetype": "text/x-python",
      "name": "python",
      "nbconvert_exporter": "python",
      "pygments_lexer": "ipython3",
      "version": "3.6.10"
    }
  },
  "nbformat": 4,
  "nbformat_minor": 0
}