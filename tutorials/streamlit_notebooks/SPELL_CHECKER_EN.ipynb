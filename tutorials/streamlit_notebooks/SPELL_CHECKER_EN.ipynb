{
  "cells": [
    {
      "cell_type": "markdown",
      "metadata": {
        "id": "view-in-github",
        "colab_type": "text"
      },
      "source": [
        "<a href=\"https://colab.research.google.com/github/is5558/colab_samples/blob/main/tutorials/streamlit_notebooks/SPELL_CHECKER_EN.ipynb\" target=\"_parent\"><img src=\"https://colab.research.google.com/assets/colab-badge.svg\" alt=\"Open In Colab\"/></a>"
      ]
    },
    {
      "cell_type": "markdown",
      "metadata": {
        "id": "I4b_2KemgDWf"
      },
      "source": [
        "\n",
        "\n",
        "![JohnSnowLabs](https://nlp.johnsnowlabs.com/assets/images/logo.png)\n",
        "\n",
        "[![Open In Colab](https://colab.research.google.com/assets/colab-badge.svg)](https://githubtocolab.com/JohnSnowLabs/spark-nlp-workshop/blob/master/tutorials/streamlit_notebooks/SPELL_CHECKER_EN.ipynb)\n",
        "\n",
        "\n"
      ]
    },
    {
      "cell_type": "markdown",
      "metadata": {
        "id": "TnZG0I4ogNLI"
      },
      "source": [
        "# **Spell check your text documents**"
      ]
    },
    {
      "cell_type": "markdown",
      "metadata": {
        "id": "apjCmRyjgQll"
      },
      "source": [
        "## 1. Colab Setup"
      ]
    },
    {
      "cell_type": "markdown",
      "metadata": {
        "id": "2phEj9SygX4n"
      },
      "source": [
        "Install dependencies"
      ]
    },
    {
      "cell_type": "code",
      "execution_count": 23,
      "metadata": {
        "id": "uAiXj3DOfyZ-"
      },
      "outputs": [],
      "source": [
        "# Install PySpark and Spark NLP\n",
        "! pip install -q pyspark spark-nlp"
      ]
    },
    {
      "cell_type": "code",
      "source": [
        "# prompt: find spark nlp version\n",
        "\n",
        "!pip show spark-nlp"
      ],
      "metadata": {
        "id": "YvvCMUOQ35pE",
        "outputId": "af1a3da4-56c0-402f-8f42-b1615e8970e4",
        "colab": {
          "base_uri": "https://localhost:8080/"
        }
      },
      "execution_count": 24,
      "outputs": [
        {
          "output_type": "stream",
          "name": "stdout",
          "text": [
            "Name: spark-nlp\n",
            "Version: 6.0.5\n",
            "Summary: John Snow Labs Spark NLP is a natural language processing library built on top of Apache Spark ML. It provides simple, performant & accurate NLP annotations for machine learning pipelines, that scale easily in a distributed environment.\n",
            "Home-page: https://github.com/JohnSnowLabs/spark-nlp\n",
            "Author: John Snow Labs\n",
            "Author-email: \n",
            "License: \n",
            "Location: /usr/local/lib/python3.11/dist-packages\n",
            "Requires: \n",
            "Required-by: \n"
          ]
        }
      ]
    },
    {
      "cell_type": "code",
      "source": [
        "import sparknlp\n",
        "from sparknlp.pretrained import PretrainedPipeline\n",
        "\n",
        "def initialize_spark_nlp():\n",
        "    try:\n",
        "        spark = sparknlp.start()\n",
        "        print(\"Spark NLP version:\", sparknlp.version())\n",
        "        return spark\n",
        "    except Exception as e:\n",
        "        print(\"Error initializing Spark NLP session:\", str(e))\n",
        "        raise\n",
        "\n",
        "def load_pipeline(pipeline_name='check_spelling', lang='en'):\n",
        "\n",
        "    try:\n",
        "        return PretrainedPipeline(pipeline_name, lang=lang)\n",
        "    except Exception as e:\n",
        "        print(f\"Error loading pipeline '{pipeline_name}':\", str(e))\n",
        "        raise\n",
        "\n",
        "def get_corrected_text(annotations):\n",
        "    try:\n",
        "        corrected_tokens = [token.result for token in annotations['checked']]\n",
        "        return \" \".join(corrected_tokens).replace(\" ,\", \",\").replace(\" .\", \".\")\n",
        "    except KeyError:\n",
        "        print(\"Error: 'checked' key not found in annotations.\")\n",
        "        return \"\"\n",
        "\n",
        "def main():\n",
        "    text = (\n",
        "        \"Yesturday, I went to the libary to borow a book about anciant civilizations. \"\n",
        "        \"The wether was pleasent, so I decidid to walk insted of taking the buss. On the way, \"\n",
        "        \"I saw a restuarent that lookt intresting, and I plan to viset it soon.\"\n",
        "    )\n",
        "\n",
        "    try:\n",
        "        # Initialize Spark NLP and load the pipeline\n",
        "        spark = initialize_spark_nlp()\n",
        "        pipeline = load_pipeline()\n",
        "\n",
        "        # Annotate text\n",
        "        annotations = pipeline.fullAnnotate(text)[0]\n",
        "\n",
        "        # Get and print corrected text\n",
        "        corrected_text = get_corrected_text(annotations)\n",
        "        print(\"*\"*77)\n",
        "        print(\"Original Text:\\n\", text)\n",
        "        print(\"Corrected Text:\\n\", corrected_text)\n",
        "        print(\"*\"*77)\n",
        "\n",
        "    except Exception as e:\n",
        "        print(\"An unexpected error occurred:\", str(e))\n",
        "\n",
        "main()"
      ],
      "metadata": {
        "colab": {
          "base_uri": "https://localhost:8080/"
        },
        "id": "_DJnasw_YhUo",
        "outputId": "a25430a2-169b-4725-cbb5-c0e46d61d488"
      },
      "execution_count": null,
      "outputs": [
        {
          "output_type": "stream",
          "name": "stdout",
          "text": [
            "Warning::Spark Session already created, some configs may not take.\n",
            "Spark NLP version: 6.0.5\n",
            "check_spelling download started this may take some time.\n",
            "Approx size to download 884.9 KB\n",
            "[OK!]\n",
            "*****************************************************************************\n",
            "Original Text:\n",
            " Yesturday, I went to the libary to borow a book about anciant civilizations. The wether was pleasent, so I decidid to walk insted of taking the buss. On the way, I saw a restuarent that lookt intresting, and I plan to viset it soon.\n",
            "Corrected Text:\n",
            " Yesterday, I went to the library to borrow a book about ancient civilizations. The whether was pleasant, so I decided to walk instead of taking the bus. On the way, I saw a restuarent that looks interesting, and I plan to visit it soon.\n",
            "*****************************************************************************\n"
          ]
        }
      ]
    },
    {
      "cell_type": "code",
      "source": [
        "! wget https://s3.amazonaws.com/auxdata.johnsnowlabs.com/public/jars/spark-nlp-assembly-6.0.5.jar -O spark-nlp-6.0.5.jar\n"
      ],
      "metadata": {
        "colab": {
          "base_uri": "https://localhost:8080/"
        },
        "id": "xPk_t4TfhCcs",
        "outputId": "ba25b14d-45dc-4485-b244-527182d6571f"
      },
      "execution_count": 25,
      "outputs": [
        {
          "output_type": "stream",
          "name": "stdout",
          "text": [
            "--2025-07-15 13:20:29--  https://s3.amazonaws.com/auxdata.johnsnowlabs.com/public/jars/spark-nlp-assembly-6.0.5.jar\n",
            "Resolving s3.amazonaws.com (s3.amazonaws.com)... 3.5.23.15, 54.231.224.192, 16.15.176.114, ...\n",
            "Connecting to s3.amazonaws.com (s3.amazonaws.com)|3.5.23.15|:443... connected.\n",
            "HTTP request sent, awaiting response... 200 OK\n",
            "Length: 656279608 (626M) [application/java-archive]\n",
            "Saving to: ‘spark-nlp-6.0.5.jar’\n",
            "\n",
            "spark-nlp-6.0.5.jar 100%[===================>] 625.88M  58.3MB/s    in 12s     \n",
            "\n",
            "2025-07-15 13:20:40 (53.6 MB/s) - ‘spark-nlp-6.0.5.jar’ saved [656279608/656279608]\n",
            "\n"
          ]
        }
      ]
    },
    {
      "cell_type": "code",
      "source": [
        "import os\n",
        "os.path.exists(\"/content/spark-nlp-6.0.5.jar\")\n"
      ],
      "metadata": {
        "id": "QIDYSpBC4PIe",
        "colab": {
          "base_uri": "https://localhost:8080/"
        },
        "outputId": "c5845295-7a71-4b6b-8717-debfb643dd86"
      },
      "execution_count": 3,
      "outputs": [
        {
          "output_type": "execute_result",
          "data": {
            "text/plain": [
              "False"
            ]
          },
          "metadata": {},
          "execution_count": 3
        }
      ]
    },
    {
      "cell_type": "code",
      "source": [
        "import sparknlp\n",
        "from pyspark.sql import SparkSession\n",
        "from sparknlp.base import DocumentAssembler\n",
        "from sparknlp.annotator import *\n",
        "from pyspark.ml import Pipeline\n",
        "\n",
        "def initialize_spark_nlp():\n",
        "    spark = SparkSession.builder \\\n",
        "        .appName(\"check_spelling\") \\\n",
        "        .config(\"spark.jars\", \"/content/spark-nlp-6.0.5.jar\") \\\n",
        "        .getOrCreate()\n",
        "    return spark\n",
        "\n",
        "def load_pipeline(pipeline_name='check_spelling', lang='en'):\n",
        "    try:\n",
        "        return PretrainedPipeline(pipeline_name, lang=lang)\n",
        "    except Exception as e:\n",
        "        print(f\"Error loading pipeline '{pipeline_name}':\", str(e))\n",
        "        raise\n",
        "\n",
        "def get_corrected_text(annotations):\n",
        "    try:\n",
        "        corrected_tokens = [token.result for token in annotations['checked']]\n",
        "        return \" \".join(corrected_tokens).replace(\" ,\", \",\").replace(\" .\", \".\")\n",
        "    except KeyError:\n",
        "        print(\"Error: 'checked' key not found in annotations.\")\n",
        "        return \"\"\n",
        "\n",
        "def main():\n",
        "    text = (\n",
        "        \"Yesturday, I went to the libary to borow a book about anciant civilizations. \"\n",
        "        \"The wether was pleasent, so I decidid to walk insted of taking the buss. On the way, \"\n",
        "        \"I saw a restuarent that lookt intresting, and I plan to viset it soon.\"\n",
        "    )\n",
        "\n",
        "    try:\n",
        "        # Initialize Spark NLP and load the pipeline\n",
        "        spark = initialize_spark_nlp()\n",
        "        pipeline = load_pipeline()\n",
        "\n",
        "        # Annotate text\n",
        "        annotations = pipeline.fullAnnotate(text)[0]\n",
        "\n",
        "        # Get and print corrected text\n",
        "        corrected_text = get_corrected_text(annotations)\n",
        "        print(\"*\"*77)\n",
        "        print(\"Original Text:\\n\", text)\n",
        "        print(\"Corrected Text:\\n\", corrected_text)\n",
        "        print(\"*\"*77)\n",
        "\n",
        "    except Exception as e:\n",
        "        print(\"An unexpected error occurred:\", str(e))\n",
        "\n",
        "if __name__ == \"__main__\":\n",
        "    main()"
      ],
      "metadata": {
        "colab": {
          "base_uri": "https://localhost:8080/"
        },
        "id": "_5r5-n3LgywO",
        "outputId": "610af7f6-3e1d-4442-f721-960d9275fa77"
      },
      "execution_count": 9,
      "outputs": [
        {
          "output_type": "stream",
          "name": "stdout",
          "text": [
            "check_spelling download started this may take some time.\n",
            "Approx size to download 884.9 KB\n",
            "[OK!]\n",
            "*****************************************************************************\n",
            "Original Text:\n",
            " Yesturday, I went to the libary to borow a book about anciant civilizations. The wether was pleasent, so I decidid to walk insted of taking the buss. On the way, I saw a restuarent that lookt intresting, and I plan to viset it soon.\n",
            "Corrected Text:\n",
            " Yesterday, I went to the library to borrow a book about ancient civilizations. The whether was pleasant, so I decided to walk instead of taking the bus. On the way, I saw a restuarent that looks interesting, and I plan to visit it soon.\n",
            "*****************************************************************************\n"
          ]
        }
      ]
    },
    {
      "cell_type": "code",
      "source": [
        "import sys\n",
        "import sparknlp\n",
        "from pyspark.sql import SparkSession\n",
        "from sparknlp.base import DocumentAssembler, Finisher\n",
        "from sparknlp.annotator import *\n",
        "from pyspark.ml import Pipeline\n",
        "\n",
        "\n",
        "# Initialize Spark NLP\n",
        "\n",
        "def initialize_spark_nlp():\n",
        "    spark = SparkSession.builder \\\n",
        "        .appName(\"spellcheck_models\") \\\n",
        "        .config(\"spark.jars\", \"/content/spark-nlp-6.0.5.jar\") \\\n",
        "        .config(\"spark.driver.memory\", \"8g\") \\\n",
        "        .config(\"spark.executor.memory\", \"8g\") \\\n",
        "        .getOrCreate()\n",
        "    return spark\n",
        "\n",
        "# Global Spark session and DocumentAssembler\n",
        "spark = initialize_spark_nlp()\n",
        "document_assembler = DocumentAssembler().setInputCol(\"text\").setOutputCol(\"document\")\n",
        "tokenizer = Tokenizer().setInputCols([\"document\"]).setOutputCol(\"token\")\n",
        "finisher = Finisher().setInputCols([\"spell\"])\n",
        "\n",
        "# Load and define each spell check model pipeline\n",
        "\n",
        "def load_spellcheck_dl():\n",
        "    spell_model = ContextSpellCheckerModel.pretrained(\"spellcheck_dl\", lang=\"en\") \\\n",
        "        .setInputCols([\"token\"]).setOutputCol(\"spell\")\n",
        "\n",
        "    pipeline = Pipeline(stages=[document_assembler, tokenizer, spell_model, finisher])\n",
        "    return pipeline.fit(spark.createDataFrame([[\"\"]]).toDF(\"text\"))\n",
        "\n",
        "def load_spellcheck_norvig():\n",
        "    spell_model = NorvigSweetingModel.pretrained(\"spellcheck_norvig\", lang=\"en\") \\\n",
        "        .setInputCols([\"token\"]).setOutputCol(\"spell\")\n",
        "\n",
        "    pipeline = Pipeline(stages=[document_assembler, tokenizer, spell_model, finisher])\n",
        "    return pipeline.fit(spark.createDataFrame([[\"\"]]).toDF(\"text\"))\n",
        "\n",
        "def load_spellcheck_sd():\n",
        "    spell_model = SymmetricDeleteModel.pretrained(\"spellcheck_sd\", lang=\"en\") \\\n",
        "        .setInputCols([\"token\"]).setOutputCol(\"spell\")\n",
        "\n",
        "    pipeline = Pipeline(stages=[document_assembler, tokenizer, spell_model, finisher])\n",
        "    return pipeline.fit(spark.createDataFrame([[\"\"]]).toDF(\"text\"))\n",
        "\n",
        "# Helper function to correct and return text\n",
        "\n",
        "def correct_text(pipeline_model, input_text):\n",
        "    try:\n",
        "        df = spark.createDataFrame([[input_text]]).toDF(\"text\")\n",
        "        result = pipeline_model.transform(df)\n",
        "        corrected = result.select(\"finished_spell\").first()[0]\n",
        "        return \" \".join(corrected)\n",
        "    except Exception as e:\n",
        "        print(\"Error during correction:\", str(e))\n",
        "        return \"\"\n",
        "\n",
        "# Sample usage\n",
        "\n",
        "def demo_model(model_name):\n",
        "    sample_text = '''Yesturday, I went to the libary to borow a book about anciant civilizations.\n",
        "    The wether was pleasent, so I decidid to walk insted of taking the buss. On the way,\n",
        "    I saw a restuarent that lookt intresting, and I plan to viset it soon. I lke aple. we needto separate the words whereit is needed.'''\n",
        "\n",
        "    print(\"\\n\" + \"=\"*70)\n",
        "    print(f\"Running spell check using: {model_name}\")\n",
        "    print(\"Original:\", sample_text)\n",
        "\n",
        "    if model_name == \"spellcheck_dl\":\n",
        "        model = load_spellcheck_dl()\n",
        "    elif model_name == \"spellcheck_norvig\":\n",
        "        model = load_spellcheck_norvig()\n",
        "    elif model_name == \"spellcheck_sd\":\n",
        "        model = load_spellcheck_sd()\n",
        "    else:\n",
        "        print(\"Invalid model name\")\n",
        "        return\n",
        "\n",
        "    corrected = correct_text(model, sample_text)\n",
        "    print(\"Corrected:\", corrected)\n",
        "    print(\"=\"*70)\n",
        "\n",
        "if __name__ == \"__main__\":\n",
        "    demo_model(\"spellcheck_dl\")\n",
        "    demo_model(\"spellcheck_norvig\")\n",
        "    # demo_model(\"spellcheck_sd\")"
      ],
      "metadata": {
        "colab": {
          "base_uri": "https://localhost:8080/"
        },
        "collapsed": true,
        "id": "QTrUdmJippqO",
        "outputId": "eb3ef4e4-4f73-427f-c479-b5f631a7665d"
      },
      "execution_count": 8,
      "outputs": [
        {
          "output_type": "stream",
          "name": "stdout",
          "text": [
            "\n",
            "======================================================================\n",
            "Running spell check using: spellcheck_dl\n",
            "Original: Yesturday, I went to the libary to borow a book about anciant civilizations.\n",
            "    The wether was pleasent, so I decidid to walk insted of taking the buss. On the way,\n",
            "    I saw a restuarent that lookt intresting, and I plan to viset it soon. I lke aple. we needto separate the words whereit is needed.\n",
            "spellcheck_dl download started this may take some time.\n",
            "Approximate size to download 95.1 MB\n",
            "[OK!]\n",
            "Corrected: Yesterday , I went to the library to borrow a book about ancient civilizations . The weather was pleasant , so I decided to walk instead of taking the busy . On the way , I saw a restaurant that look interesting , and I plan to visit it soon . I like ample . we need separate the words wherein is needed .\n",
            "======================================================================\n",
            "\n",
            "======================================================================\n",
            "Running spell check using: spellcheck_norvig\n",
            "Original: Yesturday, I went to the libary to borow a book about anciant civilizations.\n",
            "    The wether was pleasent, so I decidid to walk insted of taking the buss. On the way,\n",
            "    I saw a restuarent that lookt intresting, and I plan to viset it soon. I lke aple. we needto separate the words whereit is needed.\n",
            "spellcheck_norvig download started this may take some time.\n",
            "Approximate size to download 4.2 MB\n",
            "[OK!]\n",
            "Corrected: Yesterday , I went to the library to borrow a book about ancient civilizations . The wether was pleasant , so I decided to walk instead of taking the buss . On the way , I saw a restuarent that looks interesting , and I plan to visit it soon . I lke pale . we needto separate the words wherein is needed .\n",
            "======================================================================\n"
          ]
        }
      ]
    },
    {
      "cell_type": "code",
      "source": [
        "import sparknlp\n",
        "from pyspark.sql import SparkSession\n",
        "from sparknlp.pretrained import PretrainedPipeline\n",
        "\n",
        "def initialize_spark_nlp():\n",
        "    return SparkSession.builder \\\n",
        "        .appName(\"Spark NLP\") \\\n",
        "        .master(\"local[*]\") \\\n",
        "        .config(\"spark.driver.memory\", \"4G\") \\\n",
        "        .config(\"spark.jars\", \"/content/spark-nlp-6.0.5.jar\") \\\n",
        "        .config(\"spark.serializer\", \"org.apache.spark.serializer.KryoSerializer\") \\\n",
        "        .config(\"spark.kryoserializer.buffer.max\", \"1000M\") \\\n",
        "        .getOrCreate()\n",
        "\n",
        "spark = initialize_spark_nlp()\n",
        "\n",
        "# Step 3: Spell check pipeline runner\n",
        "def try_pretrained_spellcheck_pipeline(pipeline_name, text):\n",
        "    try:\n",
        "        print(\"\\n\" + \"=\" * 90)\n",
        "        print(f\"Running pipeline: {pipeline_name}\")\n",
        "        print(\"Original Text:\\n\", text)\n",
        "\n",
        "        pipeline = PretrainedPipeline(pipeline_name, lang=\"en\")\n",
        "        result = pipeline.annotate(text)\n",
        "\n",
        "        # Dynamic output key resolution\n",
        "        if \"checked\" in result:\n",
        "            corrected_text = result[\"checked\"]\n",
        "        elif \"spell\" in result:\n",
        "            corrected_text = \" \".join(result[\"spell\"])\n",
        "        elif \"finished_spell\" in result:\n",
        "            corrected_text = \" \".join(result[\"finished_spell\"])\n",
        "        else:\n",
        "            corrected_text = \"[No corrected output found]\"\n",
        "\n",
        "        print(\"\\nCorrected Output:\\n\", corrected_text)\n",
        "        print(\"=\" * 90)\n",
        "\n",
        "    except Exception as e:\n",
        "        print(f\"[ERROR] Pipeline {pipeline_name} failed. Reason: {e}\")\n",
        "\n",
        "# Step 2: Sample text with spelling errors\n",
        "sample_text = '''Yesturday, I went to the libary to borow a book about anciant civilizations.\n",
        "The wether was pleasent, so I decidid to walk insted of taking the buss. On the way,\n",
        "I saw a restuarent that lookt intresting, and I plan to viset it soon. I lke aple. we needto separate the words whereit is needed.'''\n",
        "\n",
        "pipelines = [\n",
        "        \"check_spelling\",\n",
        "        # \"check_spelling_dl\"\n",
        "        'spellcheck_dl_pipeline'\n",
        "    ]\n",
        "\n",
        "for pipeline_name in pipelines:\n",
        "  try_pretrained_spellcheck_pipeline(pipeline_name, sample_text)"
      ],
      "metadata": {
        "colab": {
          "base_uri": "https://localhost:8080/"
        },
        "id": "sGXJ7Ui41Rli",
        "outputId": "6c98a6b1-511a-4501-b66d-92febddd1d7b"
      },
      "execution_count": 7,
      "outputs": [
        {
          "output_type": "stream",
          "name": "stdout",
          "text": [
            "\n",
            "==========================================================================================\n",
            "Running pipeline: check_spelling\n",
            "Original Text:\n",
            " Yesturday, I went to the libary to borow a book about anciant civilizations.\n",
            "The wether was pleasent, so I decidid to walk insted of taking the buss. On the way,\n",
            "I saw a restuarent that lookt intresting, and I plan to viset it soon. I lke aple. we needto separate the words whereit is needed.\n",
            "check_spelling download started this may take some time.\n",
            "Approx size to download 884.9 KB\n",
            "[OK!]\n",
            "\n",
            "Corrected Output:\n",
            " ['Yesterday', ',', 'I', 'went', 'to', 'the', 'library', 'to', 'borrow', 'a', 'book', 'about', 'ancient', 'civilizations', '.', 'The', 'whether', 'was', 'pleasant', ',', 'so', 'I', 'decided', 'to', 'walk', 'instead', 'of', 'taking', 'the', 'bus', '.', 'On', 'the', 'way', ',', 'I', 'saw', 'a', 'restuarent', 'that', 'looks', 'interesting', ',', 'and', 'I', 'plan', 'to', 'visit', 'it', 'soon', '.', 'I', 'lke', 'able', '.', 'we', 'needto', 'separate', 'the', 'words', 'wherein', 'is', 'needed', '.']\n",
            "==========================================================================================\n",
            "\n",
            "==========================================================================================\n",
            "Running pipeline: spellcheck_dl_pipeline\n",
            "Original Text:\n",
            " Yesturday, I went to the libary to borow a book about anciant civilizations.\n",
            "The wether was pleasent, so I decidid to walk insted of taking the buss. On the way,\n",
            "I saw a restuarent that lookt intresting, and I plan to viset it soon. I lke aple. we needto separate the words whereit is needed.\n",
            "spellcheck_dl_pipeline download started this may take some time.\n",
            "Approx size to download 95.1 MB\n",
            "[OK!]\n",
            "\n",
            "Corrected Output:\n",
            " ['Yesterday', ',', 'I', 'went', 'to', 'the', 'library', 'to', 'borrow', 'a', 'book', 'about', 'ancient', 'civilizations', '.', 'The', 'weather', 'was', 'pleasant', ',', 'so', 'I', 'decided', 'to', 'walk', 'instead', 'of', 'taking', 'the', 'bus', '.', 'On', 'the', 'way', ',', 'I', 'saw', 'a', 'restaurant', 'that', 'look', 'interesting', ',', 'and', 'I', 'plan', 'to', 'visit', 'it', 'soon', '.', 'I', 'like', 'able', '.', 'we', 'need', 'separate', 'the', 'words', 'where', 'is', 'needed', '.']\n",
            "==========================================================================================\n"
          ]
        }
      ]
    }
  ],
  "metadata": {
    "colab": {
      "provenance": [],
      "include_colab_link": true
    },
    "interpreter": {
      "hash": "45150093197569bb3a58481dcd32cd1adb45462fa3448719e8ac38ada6166aca"
    },
    "kernelspec": {
      "display_name": "Python 3.6.10 64-bit ('tensorflow2_p36': conda)",
      "name": "python3"
    },
    "language_info": {
      "codemirror_mode": {
        "name": "ipython",
        "version": 3
      },
      "file_extension": ".py",
      "mimetype": "text/x-python",
      "name": "python",
      "nbconvert_exporter": "python",
      "pygments_lexer": "ipython3",
      "version": "3.6.10"
    }
  },
  "nbformat": 4,
  "nbformat_minor": 0
}